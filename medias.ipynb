{
 "cells": [
  {
   "cell_type": "markdown",
   "id": "400cc43c",
   "metadata": {},
   "source": [
    "###  solicite as notas de um aluno nas avalia¸c˜oes previstas no plano de ensino desta disciplina, calcule a sua m´edia e informe se o aluno est´a aprovado ou reprovado com base nas notasobtidas, incluindo a recupera¸c˜ao. Use este programa para avaliar seu pr´oprio desempenho na disciplina.\n"
   ]
  },
  {
   "cell_type": "code",
   "execution_count": 48,
   "id": "2499932b",
   "metadata": {},
   "outputs": [],
   "source": [
    "t1 = 0\n",
    "t2 = 0\n",
    "pf = 0\n"
   ]
  },
  {
   "cell_type": "code",
   "execution_count": 49,
   "id": "9bf3a96c",
   "metadata": {},
   "outputs": [
    {
     "name": "stdout",
     "output_type": "stream",
     "text": [
      "Qual foi sua nota do teste 1? 1\n",
      "Qual foi sua nota do teste 2? 4\n",
      "Qual foi sua nota na prova final? 6\n"
     ]
    }
   ],
   "source": [
    "t1 = float(input(\"Qual foi sua nota do teste 1? \"))\n",
    "t2 = float(input(\"Qual foi sua nota do teste 2? \"))\n",
    "pf = float(input(\"Qual foi sua nota na prova final? \"))"
   ]
  },
  {
   "cell_type": "code",
   "execution_count": 50,
   "id": "6e1cae58",
   "metadata": {},
   "outputs": [
    {
     "name": "stdout",
     "output_type": "stream",
     "text": [
      "4.949999999999999\n"
     ]
    }
   ],
   "source": [
    "mf = ((t1 * 0.15) + (t2 * 0.15) + (pf * 0.7))"
   ]
  },
  {
   "cell_type": "code",
   "execution_count": 51,
   "id": "3db58aec",
   "metadata": {},
   "outputs": [
    {
     "name": "stdout",
     "output_type": "stream",
     "text": [
      "Sua média final foi 4.949999999999999, você não passou na disciplina.\n"
     ]
    }
   ],
   "source": [
    "if (mf >= 6):\n",
    "    print(f\"Sua média final foi {mf}, você passou na disciplina.\")\n",
    "\n",
    "else:\n",
    "    print(f\"Sua média final foi {mf}, você não passou na disciplina.\")"
   ]
  },
  {
   "cell_type": "code",
   "execution_count": null,
   "id": "36483325",
   "metadata": {},
   "outputs": [],
   "source": []
  }
 ],
 "metadata": {
  "kernelspec": {
   "display_name": "Python 3 (ipykernel)",
   "language": "python",
   "name": "python3"
  },
  "language_info": {
   "codemirror_mode": {
    "name": "ipython",
    "version": 3
   },
   "file_extension": ".py",
   "mimetype": "text/x-python",
   "name": "python",
   "nbconvert_exporter": "python",
   "pygments_lexer": "ipython3",
   "version": "3.10.9"
  }
 },
 "nbformat": 4,
 "nbformat_minor": 5
}
